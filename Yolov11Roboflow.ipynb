{
  "nbformat": 4,
  "nbformat_minor": 0,
  "metadata": {
    "colab": {
      "provenance": [],
      "gpuType": "T4",
      "authorship_tag": "ABX9TyPHEU8PpDrMe5Xa03z1q2QF",
      "include_colab_link": true
    },
    "kernelspec": {
      "name": "python3",
      "display_name": "Python 3"
    },
    "language_info": {
      "name": "python"
    },
    "accelerator": "GPU"
  },
  "cells": [
    {
      "cell_type": "markdown",
      "metadata": {
        "id": "view-in-github",
        "colab_type": "text"
      },
      "source": [
        "<a href=\"https://colab.research.google.com/github/HaaziqKazi/DronesStuff/blob/main/Yolov11Roboflow.ipynb\" target=\"_parent\"><img src=\"https://colab.research.google.com/assets/colab-badge.svg\" alt=\"Open In Colab\"/></a>"
      ]
    },
    {
      "cell_type": "code",
      "execution_count": 3,
      "metadata": {
        "colab": {
          "base_uri": "https://localhost:8080/"
        },
        "id": "Tq2nxWvXljso",
        "outputId": "d29fc575-5258-4152-eca9-05c68909cc95"
      },
      "outputs": [
        {
          "output_type": "stream",
          "name": "stdout",
          "text": [
            "Mounted at /content/drive\n"
          ]
        }
      ],
      "source": [
        "from google.colab import drive\n",
        "drive.mount('/content/drive')"
      ]
    },
    {
      "cell_type": "code",
      "source": [
        "!pip install ultralytics"
      ],
      "metadata": {
        "colab": {
          "base_uri": "https://localhost:8080/"
        },
        "collapsed": true,
        "id": "qlbxJ6dilmx0",
        "outputId": "db4c8982-8162-4cbd-d12f-674f899bb259"
      },
      "execution_count": 4,
      "outputs": [
        {
          "output_type": "stream",
          "name": "stdout",
          "text": [
            "Collecting ultralytics\n",
            "  Downloading ultralytics-8.3.202-py3-none-any.whl.metadata (37 kB)\n",
            "Requirement already satisfied: numpy>=1.23.0 in /usr/local/lib/python3.12/dist-packages (from ultralytics) (2.0.2)\n",
            "Requirement already satisfied: matplotlib>=3.3.0 in /usr/local/lib/python3.12/dist-packages (from ultralytics) (3.10.0)\n",
            "Requirement already satisfied: opencv-python>=4.6.0 in /usr/local/lib/python3.12/dist-packages (from ultralytics) (4.12.0.88)\n",
            "Requirement already satisfied: pillow>=7.1.2 in /usr/local/lib/python3.12/dist-packages (from ultralytics) (11.3.0)\n",
            "Requirement already satisfied: pyyaml>=5.3.1 in /usr/local/lib/python3.12/dist-packages (from ultralytics) (6.0.2)\n",
            "Requirement already satisfied: requests>=2.23.0 in /usr/local/lib/python3.12/dist-packages (from ultralytics) (2.32.4)\n",
            "Requirement already satisfied: scipy>=1.4.1 in /usr/local/lib/python3.12/dist-packages (from ultralytics) (1.16.1)\n",
            "Requirement already satisfied: torch>=1.8.0 in /usr/local/lib/python3.12/dist-packages (from ultralytics) (2.8.0+cu126)\n",
            "Requirement already satisfied: torchvision>=0.9.0 in /usr/local/lib/python3.12/dist-packages (from ultralytics) (0.23.0+cu126)\n",
            "Requirement already satisfied: psutil in /usr/local/lib/python3.12/dist-packages (from ultralytics) (5.9.5)\n",
            "Requirement already satisfied: polars in /usr/local/lib/python3.12/dist-packages (from ultralytics) (1.25.2)\n",
            "Collecting ultralytics-thop>=2.0.0 (from ultralytics)\n",
            "  Downloading ultralytics_thop-2.0.17-py3-none-any.whl.metadata (14 kB)\n",
            "Requirement already satisfied: contourpy>=1.0.1 in /usr/local/lib/python3.12/dist-packages (from matplotlib>=3.3.0->ultralytics) (1.3.3)\n",
            "Requirement already satisfied: cycler>=0.10 in /usr/local/lib/python3.12/dist-packages (from matplotlib>=3.3.0->ultralytics) (0.12.1)\n",
            "Requirement already satisfied: fonttools>=4.22.0 in /usr/local/lib/python3.12/dist-packages (from matplotlib>=3.3.0->ultralytics) (4.59.2)\n",
            "Requirement already satisfied: kiwisolver>=1.3.1 in /usr/local/lib/python3.12/dist-packages (from matplotlib>=3.3.0->ultralytics) (1.4.9)\n",
            "Requirement already satisfied: packaging>=20.0 in /usr/local/lib/python3.12/dist-packages (from matplotlib>=3.3.0->ultralytics) (25.0)\n",
            "Requirement already satisfied: pyparsing>=2.3.1 in /usr/local/lib/python3.12/dist-packages (from matplotlib>=3.3.0->ultralytics) (3.2.3)\n",
            "Requirement already satisfied: python-dateutil>=2.7 in /usr/local/lib/python3.12/dist-packages (from matplotlib>=3.3.0->ultralytics) (2.9.0.post0)\n",
            "Requirement already satisfied: charset_normalizer<4,>=2 in /usr/local/lib/python3.12/dist-packages (from requests>=2.23.0->ultralytics) (3.4.3)\n",
            "Requirement already satisfied: idna<4,>=2.5 in /usr/local/lib/python3.12/dist-packages (from requests>=2.23.0->ultralytics) (3.10)\n",
            "Requirement already satisfied: urllib3<3,>=1.21.1 in /usr/local/lib/python3.12/dist-packages (from requests>=2.23.0->ultralytics) (2.5.0)\n",
            "Requirement already satisfied: certifi>=2017.4.17 in /usr/local/lib/python3.12/dist-packages (from requests>=2.23.0->ultralytics) (2025.8.3)\n",
            "Requirement already satisfied: filelock in /usr/local/lib/python3.12/dist-packages (from torch>=1.8.0->ultralytics) (3.19.1)\n",
            "Requirement already satisfied: typing-extensions>=4.10.0 in /usr/local/lib/python3.12/dist-packages (from torch>=1.8.0->ultralytics) (4.15.0)\n",
            "Requirement already satisfied: setuptools in /usr/local/lib/python3.12/dist-packages (from torch>=1.8.0->ultralytics) (75.2.0)\n",
            "Requirement already satisfied: sympy>=1.13.3 in /usr/local/lib/python3.12/dist-packages (from torch>=1.8.0->ultralytics) (1.13.3)\n",
            "Requirement already satisfied: networkx in /usr/local/lib/python3.12/dist-packages (from torch>=1.8.0->ultralytics) (3.5)\n",
            "Requirement already satisfied: jinja2 in /usr/local/lib/python3.12/dist-packages (from torch>=1.8.0->ultralytics) (3.1.6)\n",
            "Requirement already satisfied: fsspec in /usr/local/lib/python3.12/dist-packages (from torch>=1.8.0->ultralytics) (2025.3.0)\n",
            "Requirement already satisfied: nvidia-cuda-nvrtc-cu12==12.6.77 in /usr/local/lib/python3.12/dist-packages (from torch>=1.8.0->ultralytics) (12.6.77)\n",
            "Requirement already satisfied: nvidia-cuda-runtime-cu12==12.6.77 in /usr/local/lib/python3.12/dist-packages (from torch>=1.8.0->ultralytics) (12.6.77)\n",
            "Requirement already satisfied: nvidia-cuda-cupti-cu12==12.6.80 in /usr/local/lib/python3.12/dist-packages (from torch>=1.8.0->ultralytics) (12.6.80)\n",
            "Requirement already satisfied: nvidia-cudnn-cu12==9.10.2.21 in /usr/local/lib/python3.12/dist-packages (from torch>=1.8.0->ultralytics) (9.10.2.21)\n",
            "Requirement already satisfied: nvidia-cublas-cu12==12.6.4.1 in /usr/local/lib/python3.12/dist-packages (from torch>=1.8.0->ultralytics) (12.6.4.1)\n",
            "Requirement already satisfied: nvidia-cufft-cu12==11.3.0.4 in /usr/local/lib/python3.12/dist-packages (from torch>=1.8.0->ultralytics) (11.3.0.4)\n",
            "Requirement already satisfied: nvidia-curand-cu12==10.3.7.77 in /usr/local/lib/python3.12/dist-packages (from torch>=1.8.0->ultralytics) (10.3.7.77)\n",
            "Requirement already satisfied: nvidia-cusolver-cu12==11.7.1.2 in /usr/local/lib/python3.12/dist-packages (from torch>=1.8.0->ultralytics) (11.7.1.2)\n",
            "Requirement already satisfied: nvidia-cusparse-cu12==12.5.4.2 in /usr/local/lib/python3.12/dist-packages (from torch>=1.8.0->ultralytics) (12.5.4.2)\n",
            "Requirement already satisfied: nvidia-cusparselt-cu12==0.7.1 in /usr/local/lib/python3.12/dist-packages (from torch>=1.8.0->ultralytics) (0.7.1)\n",
            "Requirement already satisfied: nvidia-nccl-cu12==2.27.3 in /usr/local/lib/python3.12/dist-packages (from torch>=1.8.0->ultralytics) (2.27.3)\n",
            "Requirement already satisfied: nvidia-nvtx-cu12==12.6.77 in /usr/local/lib/python3.12/dist-packages (from torch>=1.8.0->ultralytics) (12.6.77)\n",
            "Requirement already satisfied: nvidia-nvjitlink-cu12==12.6.85 in /usr/local/lib/python3.12/dist-packages (from torch>=1.8.0->ultralytics) (12.6.85)\n",
            "Requirement already satisfied: nvidia-cufile-cu12==1.11.1.6 in /usr/local/lib/python3.12/dist-packages (from torch>=1.8.0->ultralytics) (1.11.1.6)\n",
            "Requirement already satisfied: triton==3.4.0 in /usr/local/lib/python3.12/dist-packages (from torch>=1.8.0->ultralytics) (3.4.0)\n",
            "Requirement already satisfied: six>=1.5 in /usr/local/lib/python3.12/dist-packages (from python-dateutil>=2.7->matplotlib>=3.3.0->ultralytics) (1.17.0)\n",
            "Requirement already satisfied: mpmath<1.4,>=1.1.0 in /usr/local/lib/python3.12/dist-packages (from sympy>=1.13.3->torch>=1.8.0->ultralytics) (1.3.0)\n",
            "Requirement already satisfied: MarkupSafe>=2.0 in /usr/local/lib/python3.12/dist-packages (from jinja2->torch>=1.8.0->ultralytics) (3.0.2)\n",
            "Downloading ultralytics-8.3.202-py3-none-any.whl (1.1 MB)\n",
            "\u001b[2K   \u001b[90m━━━━━━━━━━━━━━━━━━━━━━━━━━━━━━━━━━━━━━━━\u001b[0m \u001b[32m1.1/1.1 MB\u001b[0m \u001b[31m72.5 MB/s\u001b[0m eta \u001b[36m0:00:00\u001b[0m\n",
            "\u001b[?25hDownloading ultralytics_thop-2.0.17-py3-none-any.whl (28 kB)\n",
            "Installing collected packages: ultralytics-thop, ultralytics\n",
            "Successfully installed ultralytics-8.3.202 ultralytics-thop-2.0.17\n"
          ]
        }
      ]
    },
    {
      "cell_type": "code",
      "source": [
        "ROOT = \"/content/drive/MyDrive/Object Detection YOLO UAV.v2i.yolov11\"\n",
        "\n",
        "import os, yaml\n",
        "\n",
        "yaml_path = os.path.join(ROOT, \"data.yaml\")\n",
        "assert os.path.exists(yaml_path), f\"data.yaml not found at {yaml_path}\"\n",
        "with open(yaml_path, \"r\") as f:\n",
        "    cfg = yaml.safe_load(f)\n",
        "\n",
        "print(cfg)"
      ],
      "metadata": {
        "colab": {
          "base_uri": "https://localhost:8080/"
        },
        "collapsed": true,
        "id": "6bPuCfNEmXPJ",
        "outputId": "6edfab5a-0f9c-407b-8fb2-6937df777db6"
      },
      "execution_count": 5,
      "outputs": [
        {
          "output_type": "stream",
          "name": "stdout",
          "text": [
            "{'train': '../train/images', 'val': '../valid/images', 'test': '../test/images', 'nc': 4, 'names': ['crosswalk', 'speedlimit', 'stop', 'trafficlight'], 'roboflow': {'workspace': 'objectdetection-y3awp', 'project': 'object-detection-yolo-uav-lcxgt', 'version': 2, 'license': 'Private', 'url': 'https://app.roboflow.com/objectdetection-y3awp/object-detection-yolo-uav-lcxgt/2'}}\n"
          ]
        }
      ]
    },
    {
      "cell_type": "code",
      "source": [
        "from ultralytics import YOLO\n",
        "import torch, os"
      ],
      "metadata": {
        "colab": {
          "base_uri": "https://localhost:8080/"
        },
        "id": "mfG7Np97qj9G",
        "outputId": "b9cb4cfc-ced6-47d2-d6b8-295a47c571a0"
      },
      "execution_count": 6,
      "outputs": [
        {
          "output_type": "stream",
          "name": "stdout",
          "text": [
            "Creating new Ultralytics Settings v0.0.6 file ✅ \n",
            "View Ultralytics Settings with 'yolo settings' or at '/root/.config/Ultralytics/settings.json'\n",
            "Update Settings with 'yolo settings key=value', i.e. 'yolo settings runs_dir=path/to/dir'. For help see https://docs.ultralytics.com/quickstart/#ultralytics-settings.\n"
          ]
        }
      ]
    },
    {
      "cell_type": "code",
      "source": [
        "model = YOLO(\"yolo11n.pt\")\n",
        "\n",
        "results = model.train(\n",
        "    data=yaml_path,\n",
        "    imgsz=640,\n",
        "    epochs=30,\n",
        "    batch=16,\n",
        "    device=0 if torch.cuda.is_available() else 'cpu'\n",
        ")"
      ],
      "metadata": {
        "colab": {
          "base_uri": "https://localhost:8080/"
        },
        "id": "3_gdRmOYqdmz",
        "outputId": "70c89fb2-20f9-4bf8-cd38-3697ab1ec107"
      },
      "execution_count": 8,
      "outputs": [
        {
          "output_type": "stream",
          "name": "stdout",
          "text": [
            "\u001b[KDownloading https://github.com/ultralytics/assets/releases/download/v8.3.0/yolo11n.pt to 'yolo11n.pt': 100% ━━━━━━━━━━━━ 5.4MB 210.9MB/s 0.0s\n",
            "Ultralytics 8.3.202 🚀 Python-3.12.11 torch-2.8.0+cu126 CUDA:0 (Tesla T4, 15095MiB)\n",
            "\u001b[34m\u001b[1mengine/trainer: \u001b[0magnostic_nms=False, amp=True, augment=False, auto_augment=randaugment, batch=16, bgr=0.0, box=7.5, cache=False, cfg=None, classes=None, close_mosaic=10, cls=0.5, compile=False, conf=None, copy_paste=0.0, copy_paste_mode=flip, cos_lr=False, cutmix=0.0, data=/content/drive/MyDrive/Object Detection YOLO UAV.v2i.yolov11/data.yaml, degrees=0.0, deterministic=True, device=0, dfl=1.5, dnn=False, dropout=0.0, dynamic=False, embed=None, epochs=30, erasing=0.4, exist_ok=False, fliplr=0.5, flipud=0.0, format=torchscript, fraction=1.0, freeze=None, half=False, hsv_h=0.015, hsv_s=0.7, hsv_v=0.4, imgsz=640, int8=False, iou=0.7, keras=False, kobj=1.0, line_width=None, lr0=0.01, lrf=0.01, mask_ratio=4, max_det=300, mixup=0.0, mode=train, model=yolo11n.pt, momentum=0.937, mosaic=1.0, multi_scale=False, name=train, nbs=64, nms=False, opset=None, optimize=False, optimizer=auto, overlap_mask=True, patience=100, perspective=0.0, plots=True, pose=12.0, pretrained=True, profile=False, project=None, rect=False, resume=False, retina_masks=False, save=True, save_conf=False, save_crop=False, save_dir=/content/runs/detect/train, save_frames=False, save_json=False, save_period=-1, save_txt=False, scale=0.5, seed=0, shear=0.0, show=False, show_boxes=True, show_conf=True, show_labels=True, simplify=True, single_cls=False, source=None, split=val, stream_buffer=False, task=detect, time=None, tracker=botsort.yaml, translate=0.1, val=True, verbose=True, vid_stride=1, visualize=False, warmup_bias_lr=0.1, warmup_epochs=3.0, warmup_momentum=0.8, weight_decay=0.0005, workers=8, workspace=None\n",
            "\u001b[KDownloading https://ultralytics.com/assets/Arial.ttf to '/root/.config/Ultralytics/Arial.ttf': 100% ━━━━━━━━━━━━ 755.1KB 25.1MB/s 0.0s\n",
            "Overriding model.yaml nc=80 with nc=4\n",
            "\n",
            "                   from  n    params  module                                       arguments                     \n",
            "  0                  -1  1       464  ultralytics.nn.modules.conv.Conv             [3, 16, 3, 2]                 \n",
            "  1                  -1  1      4672  ultralytics.nn.modules.conv.Conv             [16, 32, 3, 2]                \n",
            "  2                  -1  1      6640  ultralytics.nn.modules.block.C3k2            [32, 64, 1, False, 0.25]      \n",
            "  3                  -1  1     36992  ultralytics.nn.modules.conv.Conv             [64, 64, 3, 2]                \n",
            "  4                  -1  1     26080  ultralytics.nn.modules.block.C3k2            [64, 128, 1, False, 0.25]     \n",
            "  5                  -1  1    147712  ultralytics.nn.modules.conv.Conv             [128, 128, 3, 2]              \n",
            "  6                  -1  1     87040  ultralytics.nn.modules.block.C3k2            [128, 128, 1, True]           \n",
            "  7                  -1  1    295424  ultralytics.nn.modules.conv.Conv             [128, 256, 3, 2]              \n",
            "  8                  -1  1    346112  ultralytics.nn.modules.block.C3k2            [256, 256, 1, True]           \n",
            "  9                  -1  1    164608  ultralytics.nn.modules.block.SPPF            [256, 256, 5]                 \n",
            " 10                  -1  1    249728  ultralytics.nn.modules.block.C2PSA           [256, 256, 1]                 \n",
            " 11                  -1  1         0  torch.nn.modules.upsampling.Upsample         [None, 2, 'nearest']          \n",
            " 12             [-1, 6]  1         0  ultralytics.nn.modules.conv.Concat           [1]                           \n",
            " 13                  -1  1    111296  ultralytics.nn.modules.block.C3k2            [384, 128, 1, False]          \n",
            " 14                  -1  1         0  torch.nn.modules.upsampling.Upsample         [None, 2, 'nearest']          \n",
            " 15             [-1, 4]  1         0  ultralytics.nn.modules.conv.Concat           [1]                           \n",
            " 16                  -1  1     32096  ultralytics.nn.modules.block.C3k2            [256, 64, 1, False]           \n",
            " 17                  -1  1     36992  ultralytics.nn.modules.conv.Conv             [64, 64, 3, 2]                \n",
            " 18            [-1, 13]  1         0  ultralytics.nn.modules.conv.Concat           [1]                           \n",
            " 19                  -1  1     86720  ultralytics.nn.modules.block.C3k2            [192, 128, 1, False]          \n",
            " 20                  -1  1    147712  ultralytics.nn.modules.conv.Conv             [128, 128, 3, 2]              \n",
            " 21            [-1, 10]  1         0  ultralytics.nn.modules.conv.Concat           [1]                           \n",
            " 22                  -1  1    378880  ultralytics.nn.modules.block.C3k2            [384, 256, 1, True]           \n",
            " 23        [16, 19, 22]  1    431452  ultralytics.nn.modules.head.Detect           [4, [64, 128, 256]]           \n",
            "YOLO11n summary: 181 layers, 2,590,620 parameters, 2,590,604 gradients, 6.4 GFLOPs\n",
            "\n",
            "Transferred 448/499 items from pretrained weights\n",
            "Freezing layer 'model.23.dfl.conv.weight'\n",
            "\u001b[34m\u001b[1mAMP: \u001b[0mrunning Automatic Mixed Precision (AMP) checks...\n",
            "\u001b[34m\u001b[1mAMP: \u001b[0mchecks passed ✅\n",
            "\u001b[34m\u001b[1mtrain: \u001b[0mFast image access ✅ (ping: 0.7±0.2 ms, read: 0.0±0.0 MB/s, size: 19.2 KB)\n",
            "\u001b[K\u001b[34m\u001b[1mtrain: \u001b[0mScanning /content/drive/MyDrive/Object Detection YOLO UAV.v2i.yolov11/train/labels... 612 images, 0 backgrounds, 0 corrupt: 100% ━━━━━━━━━━━━ 612/612 1.3it/s 8:05\n",
            "\u001b[34m\u001b[1mtrain: \u001b[0mNew cache created: /content/drive/MyDrive/Object Detection YOLO UAV.v2i.yolov11/train/labels.cache\n",
            "\u001b[34m\u001b[1malbumentations: \u001b[0mBlur(p=0.01, blur_limit=(3, 7)), MedianBlur(p=0.01, blur_limit=(3, 7)), ToGray(p=0.01, method='weighted_average', num_output_channels=3), CLAHE(p=0.01, clip_limit=(1.0, 4.0), tile_grid_size=(8, 8))\n",
            "\u001b[34m\u001b[1mval: \u001b[0mFast image access ✅ (ping: 0.7±0.3 ms, read: 2.5±5.5 MB/s, size: 20.1 KB)\n",
            "\u001b[K\u001b[34m\u001b[1mval: \u001b[0mScanning /content/drive/MyDrive/Object Detection YOLO UAV.v2i.yolov11/valid/labels... 175 images, 0 backgrounds, 0 corrupt: 100% ━━━━━━━━━━━━ 175/175 1.2it/s 2:22\n",
            "\u001b[34m\u001b[1mval: \u001b[0mNew cache created: /content/drive/MyDrive/Object Detection YOLO UAV.v2i.yolov11/valid/labels.cache\n",
            "Plotting labels to /content/runs/detect/train/labels.jpg... \n",
            "\u001b[34m\u001b[1moptimizer:\u001b[0m 'optimizer=auto' found, ignoring 'lr0=0.01' and 'momentum=0.937' and determining best 'optimizer', 'lr0' and 'momentum' automatically... \n",
            "\u001b[34m\u001b[1moptimizer:\u001b[0m AdamW(lr=0.00125, momentum=0.9) with parameter groups 81 weight(decay=0.0), 88 weight(decay=0.0005), 87 bias(decay=0.0)\n",
            "Image sizes 640 train, 640 val\n",
            "Using 2 dataloader workers\n",
            "Logging results to \u001b[1m/content/runs/detect/train\u001b[0m\n",
            "Starting training for 30 epochs...\n",
            "\n",
            "      Epoch    GPU_mem   box_loss   cls_loss   dfl_loss  Instances       Size\n",
            "\u001b[K       1/30      2.32G     0.9879      2.941      1.067          9        640: 100% ━━━━━━━━━━━━ 39/39 1.2it/s 33.1s\n",
            "\u001b[K                 Class     Images  Instances      Box(P          R      mAP50  mAP50-95): 100% ━━━━━━━━━━━━ 6/6 0.5it/s 11.1s\n",
            "                   all        175        249    0.00522      0.784      0.408      0.313\n",
            "\n",
            "      Epoch    GPU_mem   box_loss   cls_loss   dfl_loss  Instances       Size\n",
            "\u001b[K       2/30      2.72G     0.9917      1.749      1.045          9        640: 100% ━━━━━━━━━━━━ 39/39 3.9it/s 10.1s\n",
            "\u001b[K                 Class     Images  Instances      Box(P          R      mAP50  mAP50-95): 100% ━━━━━━━━━━━━ 6/6 1.7it/s 3.4s\n",
            "                   all        175        249      0.941      0.247      0.548      0.396\n",
            "\n",
            "      Epoch    GPU_mem   box_loss   cls_loss   dfl_loss  Instances       Size\n",
            "\u001b[K       3/30      2.74G     0.9495      1.511      1.043         10        640: 100% ━━━━━━━━━━━━ 39/39 4.1it/s 9.6s\n",
            "\u001b[K                 Class     Images  Instances      Box(P          R      mAP50  mAP50-95): 100% ━━━━━━━━━━━━ 6/6 1.6it/s 3.8s\n",
            "                   all        175        249      0.658      0.666      0.654      0.441\n",
            "\n",
            "      Epoch    GPU_mem   box_loss   cls_loss   dfl_loss  Instances       Size\n",
            "\u001b[K       4/30      2.75G     0.9413      1.419      1.048         14        640: 100% ━━━━━━━━━━━━ 39/39 4.2it/s 9.2s\n",
            "\u001b[K                 Class     Images  Instances      Box(P          R      mAP50  mAP50-95): 100% ━━━━━━━━━━━━ 6/6 1.7it/s 3.6s\n",
            "                   all        175        249      0.666      0.728      0.715      0.525\n",
            "\n",
            "      Epoch    GPU_mem   box_loss   cls_loss   dfl_loss  Instances       Size\n",
            "\u001b[K       5/30      2.77G     0.9184      1.295      1.025         11        640: 100% ━━━━━━━━━━━━ 39/39 4.1it/s 9.6s\n",
            "\u001b[K                 Class     Images  Instances      Box(P          R      mAP50  mAP50-95): 100% ━━━━━━━━━━━━ 6/6 2.0it/s 3.0s\n",
            "                   all        175        249      0.832      0.718      0.801      0.582\n",
            "\n",
            "      Epoch    GPU_mem   box_loss   cls_loss   dfl_loss  Instances       Size\n",
            "\u001b[K       6/30      2.77G     0.8938        1.2      1.035          9        640: 100% ━━━━━━━━━━━━ 39/39 4.1it/s 9.6s\n",
            "\u001b[K                 Class     Images  Instances      Box(P          R      mAP50  mAP50-95): 100% ━━━━━━━━━━━━ 6/6 2.0it/s 3.0s\n",
            "                   all        175        249      0.665      0.832      0.797      0.582\n",
            "\n",
            "      Epoch    GPU_mem   box_loss   cls_loss   dfl_loss  Instances       Size\n",
            "\u001b[K       7/30       2.8G     0.8698      1.109      1.019         14        640: 100% ━━━━━━━━━━━━ 39/39 3.9it/s 10.0s\n",
            "\u001b[K                 Class     Images  Instances      Box(P          R      mAP50  mAP50-95): 100% ━━━━━━━━━━━━ 6/6 2.0it/s 3.0s\n",
            "                   all        175        249      0.826      0.679      0.835      0.607\n",
            "\n",
            "      Epoch    GPU_mem   box_loss   cls_loss   dfl_loss  Instances       Size\n",
            "\u001b[K       8/30      2.81G     0.8082     0.9806     0.9936         11        640: 100% ━━━━━━━━━━━━ 39/39 3.9it/s 10.1s\n",
            "\u001b[K                 Class     Images  Instances      Box(P          R      mAP50  mAP50-95): 100% ━━━━━━━━━━━━ 6/6 2.4it/s 2.5s\n",
            "                   all        175        249      0.886      0.825      0.876      0.627\n",
            "\n",
            "      Epoch    GPU_mem   box_loss   cls_loss   dfl_loss  Instances       Size\n",
            "\u001b[K       9/30      2.82G     0.7866     0.9542     0.9996          9        640: 100% ━━━━━━━━━━━━ 39/39 3.7it/s 10.5s\n",
            "\u001b[K                 Class     Images  Instances      Box(P          R      mAP50  mAP50-95): 100% ━━━━━━━━━━━━ 6/6 2.8it/s 2.1s\n",
            "                   all        175        249      0.936      0.829      0.883      0.666\n",
            "\n",
            "      Epoch    GPU_mem   box_loss   cls_loss   dfl_loss  Instances       Size\n",
            "\u001b[K      10/30      2.83G     0.7997     0.9207      1.005         10        640: 100% ━━━━━━━━━━━━ 39/39 3.6it/s 10.9s\n",
            "\u001b[K                 Class     Images  Instances      Box(P          R      mAP50  mAP50-95): 100% ━━━━━━━━━━━━ 6/6 2.7it/s 2.2s\n",
            "                   all        175        249      0.873      0.849      0.879      0.672\n",
            "\n",
            "      Epoch    GPU_mem   box_loss   cls_loss   dfl_loss  Instances       Size\n",
            "\u001b[K      11/30      2.86G     0.7811     0.8474     0.9732         17        640: 100% ━━━━━━━━━━━━ 39/39 3.6it/s 10.8s\n",
            "\u001b[K                 Class     Images  Instances      Box(P          R      mAP50  mAP50-95): 100% ━━━━━━━━━━━━ 6/6 2.6it/s 2.3s\n",
            "                   all        175        249      0.896      0.807      0.899      0.659\n",
            "\n",
            "      Epoch    GPU_mem   box_loss   cls_loss   dfl_loss  Instances       Size\n",
            "\u001b[K      12/30      2.87G     0.7658      0.824     0.9762         15        640: 100% ━━━━━━━━━━━━ 39/39 3.6it/s 10.9s\n",
            "\u001b[K                 Class     Images  Instances      Box(P          R      mAP50  mAP50-95): 100% ━━━━━━━━━━━━ 6/6 2.7it/s 2.3s\n",
            "                   all        175        249      0.887      0.852      0.894      0.673\n",
            "\n",
            "      Epoch    GPU_mem   box_loss   cls_loss   dfl_loss  Instances       Size\n",
            "\u001b[K      13/30      2.88G     0.7106     0.7604     0.9657          8        640: 100% ━━━━━━━━━━━━ 39/39 3.5it/s 11.1s\n",
            "\u001b[K                 Class     Images  Instances      Box(P          R      mAP50  mAP50-95): 100% ━━━━━━━━━━━━ 6/6 2.9it/s 2.1s\n",
            "                   all        175        249      0.905      0.841      0.881      0.673\n",
            "\n",
            "      Epoch    GPU_mem   box_loss   cls_loss   dfl_loss  Instances       Size\n",
            "\u001b[K      14/30      2.89G     0.7128     0.7343     0.9666         12        640: 100% ━━━━━━━━━━━━ 39/39 3.1it/s 12.6s\n",
            "\u001b[K                 Class     Images  Instances      Box(P          R      mAP50  mAP50-95): 100% ━━━━━━━━━━━━ 6/6 2.7it/s 2.2s\n",
            "                   all        175        249      0.901      0.895      0.917        0.7\n",
            "\n",
            "      Epoch    GPU_mem   box_loss   cls_loss   dfl_loss  Instances       Size\n",
            "\u001b[K      15/30      2.92G     0.7154     0.7261       0.96         13        640: 100% ━━━━━━━━━━━━ 39/39 3.6it/s 10.8s\n",
            "\u001b[K                 Class     Images  Instances      Box(P          R      mAP50  mAP50-95): 100% ━━━━━━━━━━━━ 6/6 2.7it/s 2.2s\n",
            "                   all        175        249      0.917      0.896      0.934      0.729\n",
            "\n",
            "      Epoch    GPU_mem   box_loss   cls_loss   dfl_loss  Instances       Size\n",
            "\u001b[K      16/30      2.93G     0.7111     0.7063     0.9695         11        640: 100% ━━━━━━━━━━━━ 39/39 3.5it/s 11.0s\n",
            "\u001b[K                 Class     Images  Instances      Box(P          R      mAP50  mAP50-95): 100% ━━━━━━━━━━━━ 6/6 2.7it/s 2.2s\n",
            "                   all        175        249      0.902      0.877       0.92      0.711\n",
            "\n",
            "      Epoch    GPU_mem   box_loss   cls_loss   dfl_loss  Instances       Size\n",
            "\u001b[K      17/30      2.94G     0.7301     0.6866     0.9597          6        640: 100% ━━━━━━━━━━━━ 39/39 3.6it/s 10.9s\n",
            "\u001b[K                 Class     Images  Instances      Box(P          R      mAP50  mAP50-95): 100% ━━━━━━━━━━━━ 6/6 2.9it/s 2.0s\n",
            "                   all        175        249      0.943      0.895       0.92      0.699\n",
            "\n",
            "      Epoch    GPU_mem   box_loss   cls_loss   dfl_loss  Instances       Size\n",
            "\u001b[K      18/30      2.95G     0.6727      0.633     0.9448         12        640: 100% ━━━━━━━━━━━━ 39/39 3.6it/s 10.8s\n",
            "\u001b[K                 Class     Images  Instances      Box(P          R      mAP50  mAP50-95): 100% ━━━━━━━━━━━━ 6/6 2.8it/s 2.1s\n",
            "                   all        175        249      0.919      0.921      0.938      0.701\n",
            "\n",
            "      Epoch    GPU_mem   box_loss   cls_loss   dfl_loss  Instances       Size\n",
            "\u001b[K      19/30      2.97G     0.6507     0.6015     0.9247         12        640: 100% ━━━━━━━━━━━━ 39/39 3.5it/s 11.1s\n",
            "\u001b[K                 Class     Images  Instances      Box(P          R      mAP50  mAP50-95): 100% ━━━━━━━━━━━━ 6/6 3.2it/s 1.9s\n",
            "                   all        175        249      0.955      0.837       0.93      0.726\n",
            "\n",
            "      Epoch    GPU_mem   box_loss   cls_loss   dfl_loss  Instances       Size\n",
            "\u001b[K      20/30      2.99G     0.6648     0.5967      0.927         18        640: 100% ━━━━━━━━━━━━ 39/39 3.6it/s 10.9s\n",
            "\u001b[K                 Class     Images  Instances      Box(P          R      mAP50  mAP50-95): 100% ━━━━━━━━━━━━ 6/6 2.5it/s 2.4s\n",
            "                   all        175        249      0.901      0.905      0.935      0.704\n",
            "Closing dataloader mosaic\n",
            "\u001b[34m\u001b[1malbumentations: \u001b[0mBlur(p=0.01, blur_limit=(3, 7)), MedianBlur(p=0.01, blur_limit=(3, 7)), ToGray(p=0.01, method='weighted_average', num_output_channels=3), CLAHE(p=0.01, clip_limit=(1.0, 4.0), tile_grid_size=(8, 8))\n",
            "\n",
            "      Epoch    GPU_mem   box_loss   cls_loss   dfl_loss  Instances       Size\n",
            "\u001b[K      21/30         3G     0.6235     0.6147      0.896          4        640: 100% ━━━━━━━━━━━━ 39/39 3.0it/s 12.9s\n",
            "\u001b[K                 Class     Images  Instances      Box(P          R      mAP50  mAP50-95): 100% ━━━━━━━━━━━━ 6/6 3.1it/s 1.9s\n",
            "                   all        175        249      0.958      0.847      0.922      0.716\n",
            "\n",
            "      Epoch    GPU_mem   box_loss   cls_loss   dfl_loss  Instances       Size\n",
            "\u001b[K      22/30      3.01G     0.6292     0.5908     0.9075          5        640: 100% ━━━━━━━━━━━━ 39/39 3.6it/s 10.8s\n",
            "\u001b[K                 Class     Images  Instances      Box(P          R      mAP50  mAP50-95): 100% ━━━━━━━━━━━━ 6/6 2.8it/s 2.1s\n",
            "                   all        175        249      0.951      0.915      0.929      0.728\n",
            "\n",
            "      Epoch    GPU_mem   box_loss   cls_loss   dfl_loss  Instances       Size\n",
            "\u001b[K      23/30      3.03G      0.612     0.5655      0.903          5        640: 100% ━━━━━━━━━━━━ 39/39 3.7it/s 10.6s\n",
            "\u001b[K                 Class     Images  Instances      Box(P          R      mAP50  mAP50-95): 100% ━━━━━━━━━━━━ 6/6 2.9it/s 2.1s\n",
            "                   all        175        249      0.923      0.895       0.92      0.729\n",
            "\n",
            "      Epoch    GPU_mem   box_loss   cls_loss   dfl_loss  Instances       Size\n",
            "\u001b[K      24/30      3.05G     0.6131     0.5462     0.9022          5        640: 100% ━━━━━━━━━━━━ 39/39 3.8it/s 10.4s\n",
            "\u001b[K                 Class     Images  Instances      Box(P          R      mAP50  mAP50-95): 100% ━━━━━━━━━━━━ 6/6 2.8it/s 2.2s\n",
            "                   all        175        249      0.952      0.895      0.932      0.744\n",
            "\n",
            "      Epoch    GPU_mem   box_loss   cls_loss   dfl_loss  Instances       Size\n",
            "\u001b[K      25/30      3.06G     0.6036     0.5257     0.8928          4        640: 100% ━━━━━━━━━━━━ 39/39 4.1it/s 9.4s\n",
            "\u001b[K                 Class     Images  Instances      Box(P          R      mAP50  mAP50-95): 100% ━━━━━━━━━━━━ 6/6 1.9it/s 3.1s\n",
            "                   all        175        249      0.938      0.901      0.932      0.742\n",
            "\n",
            "      Epoch    GPU_mem   box_loss   cls_loss   dfl_loss  Instances       Size\n",
            "\u001b[K      26/30      3.07G     0.5961     0.5084     0.8778          6        640: 100% ━━━━━━━━━━━━ 39/39 4.4it/s 8.9s\n",
            "\u001b[K                 Class     Images  Instances      Box(P          R      mAP50  mAP50-95): 100% ━━━━━━━━━━━━ 6/6 1.9it/s 3.1s\n",
            "                   all        175        249      0.922      0.902      0.928      0.737\n",
            "\n",
            "      Epoch    GPU_mem   box_loss   cls_loss   dfl_loss  Instances       Size\n",
            "\u001b[K      27/30      3.09G     0.5782     0.4951     0.8763          6        640: 100% ━━━━━━━━━━━━ 39/39 4.1it/s 9.5s\n",
            "\u001b[K                 Class     Images  Instances      Box(P          R      mAP50  mAP50-95): 100% ━━━━━━━━━━━━ 6/6 2.4it/s 2.5s\n",
            "                   all        175        249      0.918      0.897      0.925      0.738\n",
            "\n",
            "      Epoch    GPU_mem   box_loss   cls_loss   dfl_loss  Instances       Size\n",
            "\u001b[K      28/30      3.11G     0.5714     0.4727     0.8818          7        640: 100% ━━━━━━━━━━━━ 39/39 3.5it/s 11.2s\n",
            "\u001b[K                 Class     Images  Instances      Box(P          R      mAP50  mAP50-95): 100% ━━━━━━━━━━━━ 6/6 2.1it/s 2.9s\n",
            "                   all        175        249      0.932       0.91      0.931      0.761\n",
            "\n",
            "      Epoch    GPU_mem   box_loss   cls_loss   dfl_loss  Instances       Size\n",
            "\u001b[K      29/30      3.12G     0.5503     0.4707     0.8778          5        640: 100% ━━━━━━━━━━━━ 39/39 4.0it/s 9.6s\n",
            "\u001b[K                 Class     Images  Instances      Box(P          R      mAP50  mAP50-95): 100% ━━━━━━━━━━━━ 6/6 3.3it/s 1.8s\n",
            "                   all        175        249      0.929      0.902      0.922      0.752\n",
            "\n",
            "      Epoch    GPU_mem   box_loss   cls_loss   dfl_loss  Instances       Size\n",
            "\u001b[K      30/30      3.13G     0.5465     0.4817     0.8702          5        640: 100% ━━━━━━━━━━━━ 39/39 3.9it/s 10.1s\n",
            "\u001b[K                 Class     Images  Instances      Box(P          R      mAP50  mAP50-95): 100% ━━━━━━━━━━━━ 6/6 2.8it/s 2.1s\n",
            "                   all        175        249       0.92      0.894      0.931      0.764\n",
            "\n",
            "30 epochs completed in 0.123 hours.\n",
            "Optimizer stripped from /content/runs/detect/train/weights/last.pt, 5.5MB\n",
            "Optimizer stripped from /content/runs/detect/train/weights/best.pt, 5.5MB\n",
            "\n",
            "Validating /content/runs/detect/train/weights/best.pt...\n",
            "Ultralytics 8.3.202 🚀 Python-3.12.11 torch-2.8.0+cu126 CUDA:0 (Tesla T4, 15095MiB)\n",
            "YOLO11n summary (fused): 100 layers, 2,582,932 parameters, 0 gradients, 6.3 GFLOPs\n",
            "\u001b[K                 Class     Images  Instances      Box(P          R      mAP50  mAP50-95): 100% ━━━━━━━━━━━━ 6/6 2.1it/s 2.8s\n",
            "                   all        175        249       0.92      0.894      0.931      0.764\n",
            "             crosswalk         34         40      0.973      0.908      0.972      0.751\n",
            "            speedlimit        133        157      0.994      0.984      0.995       0.87\n",
            "                  stop         17         17      0.979      0.941       0.95      0.834\n",
            "          trafficlight         25         35      0.736      0.743      0.806      0.602\n",
            "Speed: 0.3ms preprocess, 4.4ms inference, 0.0ms loss, 3.5ms postprocess per image\n",
            "Results saved to \u001b[1m/content/runs/detect/train\u001b[0m\n"
          ]
        }
      ]
    },
    {
      "cell_type": "code",
      "source": [
        "val_metrics  = model.val(data=yaml_path)\n",
        "test_metrics = model.val(data=yaml_path, split=\"test\")\n",
        "\n",
        "print(\"VAL:\", val_metrics.box.map)\n",
        "print(\"TEST:\", test_metrics.box.map)"
      ],
      "metadata": {
        "colab": {
          "base_uri": "https://localhost:8080/"
        },
        "id": "5bpX11ebsVor",
        "outputId": "ff091d22-fe5b-40ae-9888-00bd0ec533ae"
      },
      "execution_count": 9,
      "outputs": [
        {
          "output_type": "stream",
          "name": "stdout",
          "text": [
            "Ultralytics 8.3.202 🚀 Python-3.12.11 torch-2.8.0+cu126 CUDA:0 (Tesla T4, 15095MiB)\n",
            "YOLO11n summary (fused): 100 layers, 2,582,932 parameters, 0 gradients, 6.3 GFLOPs\n",
            "\u001b[34m\u001b[1mval: \u001b[0mFast image access ✅ (ping: 2.0±3.4 ms, read: 7.2±7.3 MB/s, size: 17.8 KB)\n",
            "\u001b[K\u001b[34m\u001b[1mval: \u001b[0mScanning /content/drive/MyDrive/Object Detection YOLO UAV.v2i.yolov11/valid/labels.cache... 175 images, 0 backgrounds, 0 corrupt: 100% ━━━━━━━━━━━━ 175/175 296.9Kit/s 0.0s\n",
            "\u001b[K                 Class     Images  Instances      Box(P          R      mAP50  mAP50-95): 100% ━━━━━━━━━━━━ 11/11 3.3it/s 3.3s\n",
            "                   all        175        249      0.923      0.887      0.932      0.767\n",
            "             crosswalk         34         40      0.973      0.909      0.972      0.752\n",
            "            speedlimit        133        157      0.994      0.984      0.995      0.874\n",
            "                  stop         17         17      0.979      0.941       0.95      0.846\n",
            "          trafficlight         25         35      0.746      0.714       0.81      0.598\n",
            "Speed: 1.0ms preprocess, 9.1ms inference, 0.0ms loss, 2.0ms postprocess per image\n",
            "Results saved to \u001b[1m/content/runs/detect/train2\u001b[0m\n",
            "Ultralytics 8.3.202 🚀 Python-3.12.11 torch-2.8.0+cu126 CUDA:0 (Tesla T4, 15095MiB)\n",
            "\u001b[34m\u001b[1mval: \u001b[0mFast image access ✅ (ping: 0.5±0.2 ms, read: 0.0±0.0 MB/s, size: 19.2 KB)\n",
            "\u001b[K\u001b[34m\u001b[1mval: \u001b[0mScanning /content/drive/MyDrive/Object Detection YOLO UAV.v2i.yolov11/test/labels... 88 images, 0 backgrounds, 0 corrupt: 100% ━━━━━━━━━━━━ 88/88 0.6it/s 2:17\n",
            "\u001b[34m\u001b[1mval: \u001b[0mNew cache created: /content/drive/MyDrive/Object Detection YOLO UAV.v2i.yolov11/test/labels.cache\n",
            "\u001b[K                 Class     Images  Instances      Box(P          R      mAP50  mAP50-95): 100% ━━━━━━━━━━━━ 6/6 2.3it/s 2.6s\n",
            "                   all         88        131       0.95      0.906      0.949      0.776\n",
            "             crosswalk         22         27          1      0.884      0.948      0.739\n",
            "            speedlimit         66         75      0.979          1      0.992      0.887\n",
            "                  stop          9          9      0.939          1      0.995      0.913\n",
            "          trafficlight         11         20      0.881      0.741      0.861      0.564\n",
            "Speed: 2.6ms preprocess, 9.7ms inference, 0.0ms loss, 4.5ms postprocess per image\n",
            "Results saved to \u001b[1m/content/runs/detect/train3\u001b[0m\n",
            "VAL: 0.7673533544884452\n",
            "TEST: 0.7759013854919378\n"
          ]
        }
      ]
    },
    {
      "cell_type": "code",
      "source": [
        "test_metrics = model.val(\n",
        "    data=yaml_path,\n",
        "    split=\"test\",\n",
        "    device=0 if torch.cuda.is_available() else 'cpu'\n",
        ")\n",
        "\n",
        "# --- Nice, compact printout ---\n",
        "print(\"\\n=== Test Metrics ===\")\n",
        "print(f\"mAP@0.50:0.95 : {test_metrics.box.map:.4f}\")\n",
        "print(f\"mAP@0.50     : {test_metrics.box.map50:.4f}\")\n",
        "print(f\"Precision     : {test_metrics.box.mp:.4f}\")\n",
        "print(f\"Recall        : {test_metrics.box.mr:.4f}\")\n"
      ],
      "metadata": {
        "colab": {
          "base_uri": "https://localhost:8080/"
        },
        "id": "0pdrYD7FtYvy",
        "outputId": "24b21d78-913b-4a3c-edc5-a6ba8f833092"
      },
      "execution_count": 10,
      "outputs": [
        {
          "output_type": "stream",
          "name": "stdout",
          "text": [
            "Ultralytics 8.3.202 🚀 Python-3.12.11 torch-2.8.0+cu126 CUDA:0 (Tesla T4, 15095MiB)\n",
            "\u001b[34m\u001b[1mval: \u001b[0mFast image access ✅ (ping: 0.4±0.1 ms, read: 9.8±4.5 MB/s, size: 16.3 KB)\n",
            "\u001b[K\u001b[34m\u001b[1mval: \u001b[0mScanning /content/drive/MyDrive/Object Detection YOLO UAV.v2i.yolov11/test/labels.cache... 88 images, 0 backgrounds, 0 corrupt: 100% ━━━━━━━━━━━━ 88/88 175.0Kit/s 0.0s\n",
            "\u001b[K                 Class     Images  Instances      Box(P          R      mAP50  mAP50-95): 100% ━━━━━━━━━━━━ 6/6 1.8it/s 3.4s\n",
            "                   all         88        131       0.95      0.906      0.949      0.776\n",
            "             crosswalk         22         27          1      0.884      0.948      0.739\n",
            "            speedlimit         66         75      0.979          1      0.992      0.887\n",
            "                  stop          9          9      0.939          1      0.995      0.913\n",
            "          trafficlight         11         20      0.881      0.741      0.861      0.564\n",
            "Speed: 8.0ms preprocess, 10.2ms inference, 0.0ms loss, 4.0ms postprocess per image\n",
            "Results saved to \u001b[1m/content/runs/detect/train4\u001b[0m\n",
            "\n",
            "=== Test Metrics ===\n",
            "mAP@0.50:0.95 : 0.7759\n",
            "mAP@0.50     : 0.9490\n",
            "Precision     : 0.9499\n",
            "Recall        : 0.9062\n"
          ]
        }
      ]
    },
    {
      "cell_type": "code",
      "source": [
        "results = model.val(data=yaml_path, split=\"test\", plots=True)"
      ],
      "metadata": {
        "colab": {
          "base_uri": "https://localhost:8080/"
        },
        "id": "_CzleZ0ty_1q",
        "outputId": "4a8fab70-48b4-4cc2-ef8e-0099d2755748"
      },
      "execution_count": 11,
      "outputs": [
        {
          "output_type": "stream",
          "name": "stdout",
          "text": [
            "Ultralytics 8.3.202 🚀 Python-3.12.11 torch-2.8.0+cu126 CUDA:0 (Tesla T4, 15095MiB)\n",
            "\u001b[34m\u001b[1mval: \u001b[0mFast image access ✅ (ping: 0.3±0.1 ms, read: 12.0±5.9 MB/s, size: 24.4 KB)\n",
            "\u001b[K\u001b[34m\u001b[1mval: \u001b[0mScanning /content/drive/MyDrive/Object Detection YOLO UAV.v2i.yolov11/test/labels.cache... 88 images, 0 backgrounds, 0 corrupt: 100% ━━━━━━━━━━━━ 88/88 127.7Kit/s 0.0s\n",
            "\u001b[K                 Class     Images  Instances      Box(P          R      mAP50  mAP50-95): 100% ━━━━━━━━━━━━ 6/6 2.3it/s 2.6s\n",
            "                   all         88        131       0.95      0.906      0.949      0.776\n",
            "             crosswalk         22         27          1      0.884      0.948      0.739\n",
            "            speedlimit         66         75      0.979          1      0.992      0.887\n",
            "                  stop          9          9      0.939          1      0.995      0.913\n",
            "          trafficlight         11         20      0.881      0.741      0.861      0.564\n",
            "Speed: 3.7ms preprocess, 8.7ms inference, 0.0ms loss, 2.5ms postprocess per image\n",
            "Results saved to \u001b[1m/content/runs/detect/train5\u001b[0m\n"
          ]
        }
      ]
    },
    {
      "cell_type": "code",
      "source": [
        "test_images_dir = os.path.join(ROOT, \"test\", \"images\")\n",
        "pred = model.predict(source=test_images_dir, save=True, imgsz=640,\n",
        "                     device=0 if torch.cuda.is_available() else 'cpu')\n",
        "print(\"Saved to:\", pred[0].save_dir)"
      ],
      "metadata": {
        "colab": {
          "base_uri": "https://localhost:8080/"
        },
        "id": "vnGgr9FWtJMs",
        "outputId": "bbef0f88-8bc3-48b5-87d4-ba209ebaccc0"
      },
      "execution_count": 12,
      "outputs": [
        {
          "output_type": "stream",
          "name": "stdout",
          "text": [
            "\n",
            "image 1/88 /content/drive/MyDrive/Object Detection YOLO UAV.v2i.yolov11/test/images/road125_png.rf.97598f6687dcd56d80c7cbb4504fc76f.jpg: 640x448 1 crosswalk, 51.0ms\n",
            "image 2/88 /content/drive/MyDrive/Object Detection YOLO UAV.v2i.yolov11/test/images/road126_png.rf.145e787bb2c11d5d2868d7ff36aeffd2.jpg: 640x448 1 crosswalk, 7.5ms\n",
            "image 3/88 /content/drive/MyDrive/Object Detection YOLO UAV.v2i.yolov11/test/images/road128_png.rf.00ab0182a33f51b036b32d83506dab38.jpg: 448x640 1 crosswalk, 48.6ms\n",
            "image 4/88 /content/drive/MyDrive/Object Detection YOLO UAV.v2i.yolov11/test/images/road132_png.rf.3f164392e1cd321ac012b3586afa7a03.jpg: 480x640 1 crosswalk, 49.3ms\n",
            "image 5/88 /content/drive/MyDrive/Object Detection YOLO UAV.v2i.yolov11/test/images/road140_png.rf.49aaf2a5e5260918b620259cfffd464d.jpg: 448x640 1 crosswalk, 8.1ms\n",
            "image 6/88 /content/drive/MyDrive/Object Detection YOLO UAV.v2i.yolov11/test/images/road141_png.rf.711aeeef2cbcaa8b51f14c32c5b7ca79.jpg: 384x640 1 crosswalk, 51.7ms\n",
            "image 7/88 /content/drive/MyDrive/Object Detection YOLO UAV.v2i.yolov11/test/images/road146_png.rf.562b5f7604551c65650582c57aa8e351.jpg: 288x640 1 crosswalk, 59.6ms\n",
            "image 8/88 /content/drive/MyDrive/Object Detection YOLO UAV.v2i.yolov11/test/images/road179_png.rf.561adafd0fbf68b93f03f74883487174.jpg: 640x480 2 trafficlights, 56.2ms\n",
            "image 9/88 /content/drive/MyDrive/Object Detection YOLO UAV.v2i.yolov11/test/images/road183_png.rf.511de84e34afa1acf767c326656d6e80.jpg: 640x480 2 crosswalks, 1 trafficlight, 8.5ms\n",
            "image 10/88 /content/drive/MyDrive/Object Detection YOLO UAV.v2i.yolov11/test/images/road193_png.rf.09e2c0069c00bbdfb2b632560a35f36b.jpg: 640x480 1 crosswalk, 1 trafficlight, 7.3ms\n",
            "image 11/88 /content/drive/MyDrive/Object Detection YOLO UAV.v2i.yolov11/test/images/road222_png.rf.92ca85ea66ab7400e463ba0736684217.jpg: 640x480 1 speedlimit, 7.3ms\n",
            "image 12/88 /content/drive/MyDrive/Object Detection YOLO UAV.v2i.yolov11/test/images/road238_png.rf.9b0fe5911e1e18aba9e7c46c40083808.jpg: 640x480 2 speedlimits, 7.0ms\n",
            "image 13/88 /content/drive/MyDrive/Object Detection YOLO UAV.v2i.yolov11/test/images/road244_png.rf.c25ee49bcfd569a5679d6fc732f291ac.jpg: 640x480 2 speedlimits, 7.1ms\n",
            "image 14/88 /content/drive/MyDrive/Object Detection YOLO UAV.v2i.yolov11/test/images/road251_png.rf.653aac5a02256eaf3fed16e54531f705.jpg: 640x480 1 speedlimit, 6.9ms\n",
            "image 15/88 /content/drive/MyDrive/Object Detection YOLO UAV.v2i.yolov11/test/images/road256_png.rf.d672717632ec3e2c36d9edf46510e0d7.jpg: 640x480 1 speedlimit, 6.9ms\n",
            "image 16/88 /content/drive/MyDrive/Object Detection YOLO UAV.v2i.yolov11/test/images/road267_png.rf.e8979da456fbf9e8d4e82fb20125a3a0.jpg: 640x480 1 speedlimit, 7.3ms\n",
            "image 17/88 /content/drive/MyDrive/Object Detection YOLO UAV.v2i.yolov11/test/images/road272_png.rf.2071a393b639ae61b5db9c3c760c54d8.jpg: 640x480 2 crosswalks, 1 stop, 2 trafficlights, 6.7ms\n",
            "image 18/88 /content/drive/MyDrive/Object Detection YOLO UAV.v2i.yolov11/test/images/road276_png.rf.96c1e5510dbf89ac948388b8bd90689c.jpg: 640x480 1 speedlimit, 8.3ms\n",
            "image 19/88 /content/drive/MyDrive/Object Detection YOLO UAV.v2i.yolov11/test/images/road282_png.rf.9212c3fb357fae69f081fcc482a9b0da.jpg: 640x480 2 crosswalks, 1 speedlimit, 6.8ms\n",
            "image 20/88 /content/drive/MyDrive/Object Detection YOLO UAV.v2i.yolov11/test/images/road284_png.rf.81e39d7be9ac82cad553ee43d908410a.jpg: 640x480 1 speedlimit, 7.0ms\n",
            "image 21/88 /content/drive/MyDrive/Object Detection YOLO UAV.v2i.yolov11/test/images/road289_png.rf.8c1b72666c98c1594df654feeb060d2c.jpg: 640x480 1 stop, 1 trafficlight, 6.8ms\n",
            "image 22/88 /content/drive/MyDrive/Object Detection YOLO UAV.v2i.yolov11/test/images/road322_png.rf.b77cb6401b1335d023990b1e94a06695.jpg: 640x480 1 speedlimit, 6.9ms\n",
            "image 23/88 /content/drive/MyDrive/Object Detection YOLO UAV.v2i.yolov11/test/images/road323_png.rf.5c674db997496b4d4c8e242c576daa02.jpg: 640x480 1 speedlimit, 1 stop, 7.4ms\n",
            "image 24/88 /content/drive/MyDrive/Object Detection YOLO UAV.v2i.yolov11/test/images/road337_png.rf.333d86895ea7a1c69c0ad99f8cc58228.jpg: 640x480 1 speedlimit, 7.0ms\n",
            "image 25/88 /content/drive/MyDrive/Object Detection YOLO UAV.v2i.yolov11/test/images/road338_png.rf.7be5374917880d20cbb018fbb9baacd8.jpg: 640x480 1 speedlimit, 7.0ms\n",
            "image 26/88 /content/drive/MyDrive/Object Detection YOLO UAV.v2i.yolov11/test/images/road33_png.rf.04ffb43e9521b4f37d99216829317224.jpg: 640x448 1 trafficlight, 8.2ms\n",
            "image 27/88 /content/drive/MyDrive/Object Detection YOLO UAV.v2i.yolov11/test/images/road358_png.rf.6f026ebddd719e5525fcd2bd0f6e0bd8.jpg: 640x480 1 crosswalk, 2 speedlimits, 9.4ms\n",
            "image 28/88 /content/drive/MyDrive/Object Detection YOLO UAV.v2i.yolov11/test/images/road375_png.rf.939cfb37944d175677de66c5816fa2ca.jpg: 640x480 1 speedlimit, 7.9ms\n",
            "image 29/88 /content/drive/MyDrive/Object Detection YOLO UAV.v2i.yolov11/test/images/road378_png.rf.1050d1d4af14abbc82ddf4f0dadaca7f.jpg: 640x480 1 speedlimit, 7.0ms\n",
            "image 30/88 /content/drive/MyDrive/Object Detection YOLO UAV.v2i.yolov11/test/images/road395_png.rf.d9e769d5b434559339adf8fc78dd4890.jpg: 640x480 1 speedlimit, 8.4ms\n",
            "image 31/88 /content/drive/MyDrive/Object Detection YOLO UAV.v2i.yolov11/test/images/road401_png.rf.5c481c892309994a8040a5dfb72d6a0a.jpg: 640x480 1 speedlimit, 13.5ms\n",
            "image 32/88 /content/drive/MyDrive/Object Detection YOLO UAV.v2i.yolov11/test/images/road408_png.rf.98d05a8ca102a2bf0006bb716457a509.jpg: 640x480 1 speedlimit, 18.1ms\n",
            "image 33/88 /content/drive/MyDrive/Object Detection YOLO UAV.v2i.yolov11/test/images/road413_png.rf.ecd35d23026b0bfb4e99407cc30b7885.jpg: 640x480 1 speedlimit, 7.6ms\n",
            "image 34/88 /content/drive/MyDrive/Object Detection YOLO UAV.v2i.yolov11/test/images/road422_png.rf.643455dc84455d234abe5ef493acadef.jpg: 640x480 1 speedlimit, 7.1ms\n",
            "image 35/88 /content/drive/MyDrive/Object Detection YOLO UAV.v2i.yolov11/test/images/road426_png.rf.1c5bb32e92b0c22d3256f19b906a8a1b.jpg: 640x480 1 speedlimit, 8.8ms\n",
            "image 36/88 /content/drive/MyDrive/Object Detection YOLO UAV.v2i.yolov11/test/images/road429_png.rf.1ec8702aa35f43a63e925de309d89876.jpg: 640x480 1 speedlimit, 7.2ms\n",
            "image 37/88 /content/drive/MyDrive/Object Detection YOLO UAV.v2i.yolov11/test/images/road42_png.rf.94179006b2ab318d2e56264aaac9fb07.jpg: 640x448 2 trafficlights, 8.2ms\n",
            "image 38/88 /content/drive/MyDrive/Object Detection YOLO UAV.v2i.yolov11/test/images/road439_png.rf.081be970f4e069c320aefca37cce7b76.jpg: 640x480 1 speedlimit, 7.8ms\n",
            "image 39/88 /content/drive/MyDrive/Object Detection YOLO UAV.v2i.yolov11/test/images/road43_png.rf.9a27420ab0679519bab6194ce146d975.jpg: 448x640 2 trafficlights, 8.1ms\n",
            "image 40/88 /content/drive/MyDrive/Object Detection YOLO UAV.v2i.yolov11/test/images/road441_png.rf.32a2951459246533119fb440a48e73c5.jpg: 640x480 1 speedlimit, 7.6ms\n",
            "image 41/88 /content/drive/MyDrive/Object Detection YOLO UAV.v2i.yolov11/test/images/road450_png.rf.6e33eaa3d61888184a5bbbbba3645d12.jpg: 640x480 1 speedlimit, 7.4ms\n",
            "image 42/88 /content/drive/MyDrive/Object Detection YOLO UAV.v2i.yolov11/test/images/road454_png.rf.558d5e6d005db1c169be71b8b79f264f.jpg: 640x480 1 speedlimit, 7.5ms\n",
            "image 43/88 /content/drive/MyDrive/Object Detection YOLO UAV.v2i.yolov11/test/images/road464_png.rf.76f113535447c60cfa39ccb8e8ca0b51.jpg: 640x480 1 crosswalk, 1 speedlimit, 4 trafficlights, 7.8ms\n",
            "image 44/88 /content/drive/MyDrive/Object Detection YOLO UAV.v2i.yolov11/test/images/road465_png.rf.2295acd01936fd02cf1f308c8049e0e5.jpg: 640x480 1 crosswalk, 1 speedlimit, 1 trafficlight, 7.5ms\n",
            "image 45/88 /content/drive/MyDrive/Object Detection YOLO UAV.v2i.yolov11/test/images/road474_png.rf.5e290fdeb3be8478f03c7f178db0f303.jpg: 640x480 1 speedlimit, 8.7ms\n",
            "image 46/88 /content/drive/MyDrive/Object Detection YOLO UAV.v2i.yolov11/test/images/road475_png.rf.6ddfe5f006462ef632c70b1216b865d0.jpg: 640x480 1 speedlimit, 7.2ms\n",
            "image 47/88 /content/drive/MyDrive/Object Detection YOLO UAV.v2i.yolov11/test/images/road486_png.rf.6e915a4b52a6e649d664924b5ced1fe6.jpg: 640x480 1 speedlimit, 6.9ms\n",
            "image 48/88 /content/drive/MyDrive/Object Detection YOLO UAV.v2i.yolov11/test/images/road493_png.rf.e160b676164c774b4a7004f4db5dfbaa.jpg: 640x480 1 speedlimit, 6.8ms\n",
            "image 49/88 /content/drive/MyDrive/Object Detection YOLO UAV.v2i.yolov11/test/images/road501_png.rf.e8f12e6ec5160b87b5a21a1964fba3a3.jpg: 640x480 1 speedlimit, 7.4ms\n",
            "image 50/88 /content/drive/MyDrive/Object Detection YOLO UAV.v2i.yolov11/test/images/road503_png.rf.810c101b32c68bf6f8355f8516d4f176.jpg: 640x480 1 speedlimit, 6.8ms\n",
            "image 51/88 /content/drive/MyDrive/Object Detection YOLO UAV.v2i.yolov11/test/images/road505_png.rf.3e36b1f9dce21fddc79a8be3814e0eeb.jpg: 640x480 1 speedlimit, 7.3ms\n",
            "image 52/88 /content/drive/MyDrive/Object Detection YOLO UAV.v2i.yolov11/test/images/road515_png.rf.d636895ac06f6e5c7d28b090baab881e.jpg: 640x480 1 speedlimit, 8.9ms\n",
            "image 53/88 /content/drive/MyDrive/Object Detection YOLO UAV.v2i.yolov11/test/images/road525_png.rf.0085e6009bf473c8226609c94d12457e.jpg: 640x480 1 speedlimit, 7.8ms\n",
            "image 54/88 /content/drive/MyDrive/Object Detection YOLO UAV.v2i.yolov11/test/images/road542_png.rf.338b35f693bdaaf19679fde7611a188e.jpg: 640x480 1 speedlimit, 7.2ms\n",
            "image 55/88 /content/drive/MyDrive/Object Detection YOLO UAV.v2i.yolov11/test/images/road549_png.rf.15c8e49e342b87c8b968f2e75371d507.jpg: 640x480 1 crosswalk, 1 speedlimit, 6.8ms\n",
            "image 56/88 /content/drive/MyDrive/Object Detection YOLO UAV.v2i.yolov11/test/images/road551_png.rf.07dd988e9660b50413c5ac52323144a8.jpg: 640x480 1 speedlimit, 7.5ms\n",
            "image 57/88 /content/drive/MyDrive/Object Detection YOLO UAV.v2i.yolov11/test/images/road558_png.rf.4bbd92c32c476f6a9fb9295b9f5ae835.jpg: 640x480 1 speedlimit, 7.6ms\n",
            "image 58/88 /content/drive/MyDrive/Object Detection YOLO UAV.v2i.yolov11/test/images/road55_png.rf.b9af72b6185c2675247c5c734ae97727.jpg: 448x640 1 speedlimit, 1 stop, 7.8ms\n",
            "image 59/88 /content/drive/MyDrive/Object Detection YOLO UAV.v2i.yolov11/test/images/road566_png.rf.5890ffeb87ca73987a22be7c486f1c80.jpg: 640x480 1 speedlimit, 7.6ms\n",
            "image 60/88 /content/drive/MyDrive/Object Detection YOLO UAV.v2i.yolov11/test/images/road570_png.rf.8599fba10069000b22b500930622f823.jpg: 640x480 1 speedlimit, 6.8ms\n",
            "image 61/88 /content/drive/MyDrive/Object Detection YOLO UAV.v2i.yolov11/test/images/road575_png.rf.9b5f3b96a9242abf0025366b182ea990.jpg: 640x480 1 crosswalk, 1 speedlimit, 7.4ms\n",
            "image 62/88 /content/drive/MyDrive/Object Detection YOLO UAV.v2i.yolov11/test/images/road580_png.rf.fe86f001bd51296a76c2582ed6d0691d.jpg: 640x480 2 crosswalks, 8.4ms\n",
            "image 63/88 /content/drive/MyDrive/Object Detection YOLO UAV.v2i.yolov11/test/images/road591_png.rf.68a3f717db9be311488204feed982f91.jpg: 640x480 1 speedlimit, 7.4ms\n",
            "image 64/88 /content/drive/MyDrive/Object Detection YOLO UAV.v2i.yolov11/test/images/road593_png.rf.135bd30cb6449a6dd20c7ba8ec0393f5.jpg: 640x480 1 speedlimit, 7.4ms\n",
            "image 65/88 /content/drive/MyDrive/Object Detection YOLO UAV.v2i.yolov11/test/images/road597_png.rf.275252846089b55dc1ff240a2fa3e37e.jpg: 640x480 1 crosswalk, 1 speedlimit, 8.0ms\n",
            "image 66/88 /content/drive/MyDrive/Object Detection YOLO UAV.v2i.yolov11/test/images/road63_png.rf.933c26e30cbc7706b3332afafa70e62b.jpg: 512x640 1 stop, 50.8ms\n",
            "image 67/88 /content/drive/MyDrive/Object Detection YOLO UAV.v2i.yolov11/test/images/road640_png.rf.005b89d9f9e4e2cce937830d06b2d544.jpg: 640x480 2 speedlimits, 8.3ms\n",
            "image 68/88 /content/drive/MyDrive/Object Detection YOLO UAV.v2i.yolov11/test/images/road643_png.rf.1e8f993640cc4109b91beb15a087f2fe.jpg: 640x480 1 speedlimit, 7.9ms\n",
            "image 69/88 /content/drive/MyDrive/Object Detection YOLO UAV.v2i.yolov11/test/images/road658_png.rf.25a13c3b35ac9c55fe67dad7612a04df.jpg: 640x480 1 crosswalk, 2 speedlimits, 7.8ms\n",
            "image 70/88 /content/drive/MyDrive/Object Detection YOLO UAV.v2i.yolov11/test/images/road699_png.rf.98a8f40616b6f4f73ff00839ee01575e.jpg: 640x480 2 speedlimits, 7.1ms\n",
            "image 71/88 /content/drive/MyDrive/Object Detection YOLO UAV.v2i.yolov11/test/images/road736_png.rf.ab746dfa84d3adc3255212293f6f4120.jpg: 640x480 2 speedlimits, 7.3ms\n",
            "image 72/88 /content/drive/MyDrive/Object Detection YOLO UAV.v2i.yolov11/test/images/road740_png.rf.3ad2a3a0caa255031fdda0c7b16b7882.jpg: 640x480 2 speedlimits, 7.8ms\n",
            "image 73/88 /content/drive/MyDrive/Object Detection YOLO UAV.v2i.yolov11/test/images/road742_png.rf.da2fed72027267d69be8747e19f34c91.jpg: 640x480 2 speedlimits, 7.5ms\n",
            "image 74/88 /content/drive/MyDrive/Object Detection YOLO UAV.v2i.yolov11/test/images/road744_png.rf.80952d744742d292363ac2d7970273e5.jpg: 640x480 2 speedlimits, 8.1ms\n",
            "image 75/88 /content/drive/MyDrive/Object Detection YOLO UAV.v2i.yolov11/test/images/road755_png.rf.80cc36bcbc4b6e58a80de6599de200a7.jpg: 640x480 1 speedlimit, 7.3ms\n",
            "image 76/88 /content/drive/MyDrive/Object Detection YOLO UAV.v2i.yolov11/test/images/road757_png.rf.99bc3a690e84c4d667cea5f341a84223.jpg: 640x480 1 speedlimit, 7.3ms\n",
            "image 77/88 /content/drive/MyDrive/Object Detection YOLO UAV.v2i.yolov11/test/images/road772_png.rf.f28b6c4978cf72e6b03eb21658aa2297.jpg: 640x480 1 speedlimit, 7.0ms\n",
            "image 78/88 /content/drive/MyDrive/Object Detection YOLO UAV.v2i.yolov11/test/images/road786_png.rf.d162b9c4687377b5c71c7713a5796a5a.jpg: 640x480 1 speedlimit, 6.9ms\n",
            "image 79/88 /content/drive/MyDrive/Object Detection YOLO UAV.v2i.yolov11/test/images/road787_png.rf.951f4602374a53eb7c706a02e34f702f.jpg: 640x480 1 speedlimit, 8.7ms\n",
            "image 80/88 /content/drive/MyDrive/Object Detection YOLO UAV.v2i.yolov11/test/images/road817_png.rf.eb4617f91b73baf11f5188b6daf8b8bd.jpg: 640x480 1 speedlimit, 7.1ms\n",
            "image 81/88 /content/drive/MyDrive/Object Detection YOLO UAV.v2i.yolov11/test/images/road823_png.rf.84cb6ae46175e2c61c6d10fe6a689201.jpg: 640x480 1 crosswalk, 1 stop, 2 trafficlights, 7.4ms\n",
            "image 82/88 /content/drive/MyDrive/Object Detection YOLO UAV.v2i.yolov11/test/images/road829_png.rf.28f77b5ab9a3bf54bf45af88cd050fbd.jpg: 640x480 1 speedlimit, 7.2ms\n",
            "image 83/88 /content/drive/MyDrive/Object Detection YOLO UAV.v2i.yolov11/test/images/road848_png.rf.a71385e2d544b3a2526ec0322a41c5a7.jpg: 640x480 1 speedlimit, 7.5ms\n",
            "image 84/88 /content/drive/MyDrive/Object Detection YOLO UAV.v2i.yolov11/test/images/road850_png.rf.f61ee6b6cc1fb0d564d2e25fdbead192.jpg: 640x480 1 speedlimit, 7.0ms\n",
            "image 85/88 /content/drive/MyDrive/Object Detection YOLO UAV.v2i.yolov11/test/images/road870_png.rf.bcee0434e9c8bc48d303b6d74a49336d.jpg: 640x480 1 speedlimit, 9.1ms\n",
            "image 86/88 /content/drive/MyDrive/Object Detection YOLO UAV.v2i.yolov11/test/images/road91_png.rf.6e67445614d2ff0f58127adc9ec4e6b3.jpg: 640x640 1 stop, 7.8ms\n",
            "image 87/88 /content/drive/MyDrive/Object Detection YOLO UAV.v2i.yolov11/test/images/road96_png.rf.4f1beaa7461c821fdd3a28b1295aa586.jpg: 448x640 1 stop, 8.3ms\n",
            "image 88/88 /content/drive/MyDrive/Object Detection YOLO UAV.v2i.yolov11/test/images/road99_png.rf.49f5b7c51409ba2b7f288a1c7fbb5205.jpg: 640x448 1 stop, 7.5ms\n",
            "Speed: 1.9ms preprocess, 11.3ms inference, 1.1ms postprocess per image at shape (1, 3, 640, 448)\n",
            "Results saved to \u001b[1m/content/runs/detect/train6\u001b[0m\n",
            "Saved to: /content/runs/detect/train6\n"
          ]
        }
      ]
    }
  ]
}